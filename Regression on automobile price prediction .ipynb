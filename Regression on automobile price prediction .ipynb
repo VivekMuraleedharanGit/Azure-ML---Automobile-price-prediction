{
 "cells": [
  {
   "cell_type": "code",
   "execution_count": 2,
   "metadata": {},
   "outputs": [
    {
     "name": "stdout",
     "output_type": "stream",
     "text": [
      "The predicted price is  19217.5220381271\n"
     ]
    }
   ],
   "source": [
    "import urllib.request\n",
    "import json\n",
    "\n",
    "data = {\n",
    "        \"Inputs\": {\n",
    "                \"input1\":\n",
    "                [\n",
    "                    {\n",
    "                            'symboling': \"3\",   \n",
    "                            'normalized-losses': \"1\",   \n",
    "                            'make': \"alfa-romero\",   \n",
    "                            'fuel-type': \"gas\",   \n",
    "                            'aspiration': \"std\",   \n",
    "                            'num-of-doors': \"two\",   \n",
    "                            'body-style': \"convertible\",   \n",
    "                            'drive-wheels': \"rwd\",   \n",
    "                            'engine-location': \"front\",   \n",
    "                            'wheel-base': \"88.6\",   \n",
    "                            'length': \"168.8\",   \n",
    "                            'width': \"64.1\",   \n",
    "                            'height': \"48.8\",   \n",
    "                            'curb-weight': \"2548\",   \n",
    "                            'engine-type': \"dohc\",   \n",
    "                            'num-of-cylinders': \"four\",   \n",
    "                            'engine-size': \"130\",   \n",
    "                            'fuel-system': \"mpfi\",   \n",
    "                            'bore': \"3.47\",   \n",
    "                            'stroke': \"2.68\",   \n",
    "                            'compression-ratio': \"9\",   \n",
    "                            'horsepower': \"111\",   \n",
    "                            'peak-rpm': \"5000\",   \n",
    "                            'city-mpg': \"21\",   \n",
    "                            'highway-mpg': \"27\",   \n",
    "                            'price': \"13495\",   \n",
    "                    }\n",
    "                ],\n",
    "        },\n",
    "    \"GlobalParameters\":  {\n",
    "    }\n",
    "}\n",
    "\n",
    "body = str.encode(json.dumps(data))\n",
    "\n",
    "url = 'https://ussouthcentral.services.azureml.net/workspaces/38971a33298845a39d087815aa6b1fac/services/75a41c2e4a97485ab8e91aa9699de272/execute?api-version=2.0&format=swagger'\n",
    "api_key = '2LCQmOugqFHEKQ5iGU/uy1kZM3ATuRQ3yqDsTacv290o/R/C6QIjZKLFSr5S/35qDgrP6MItt2ZsAjer4YHzYg==' # Replace this with the API key for the web service\n",
    "headers = {'Content-Type':'application/json', 'Authorization':('Bearer '+ api_key)}\n",
    "\n",
    "req = urllib.request.Request(url, body, headers)\n",
    "\n",
    "try:\n",
    "    response = urllib.request.urlopen(req)\n",
    "\n",
    "    result = response.read()\n",
    "    #print(result)\n",
    "    print('The predicted price of car is ',json.loads(result)['Results']['output1'][0]['Scored Labels'])\n",
    "except urllib.error.HTTPError as error:\n",
    "    print(\"The request failed with status code: \" + str(error.code))\n",
    "\n",
    "    # Print the headers - they include the requert ID and the timestamp, which are useful for debugging the failure\n",
    "    print(error.info())\n",
    "    print(json.loads(error.read().decode(\"utf8\", 'ignore')))"
   ]
  },
  {
   "cell_type": "code",
   "execution_count": null,
   "metadata": {},
   "outputs": [],
   "source": []
  }
 ],
 "metadata": {
  "kernelspec": {
   "display_name": "Python 3",
   "language": "python",
   "name": "python3"
  },
  "language_info": {
   "codemirror_mode": {
    "name": "ipython",
    "version": 3
   },
   "file_extension": ".py",
   "mimetype": "text/x-python",
   "name": "python",
   "nbconvert_exporter": "python",
   "pygments_lexer": "ipython3",
   "version": "3.7.1"
  }
 },
 "nbformat": 4,
 "nbformat_minor": 2
}
